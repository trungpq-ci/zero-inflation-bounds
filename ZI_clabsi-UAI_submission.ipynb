{
 "cells": [
  {
   "cell_type": "code",
   "execution_count": null,
   "id": "8afd2620-fc10-46e5-ab12-dc68276e14dd",
   "metadata": {},
   "outputs": [],
   "source": [
    "import io\n",
    "import sys\n",
    "import numpy as np\n",
    "import pandas as pd\n",
    "from copy import deepcopy\n",
    "from itertools import product\n",
    "from matplotlib import pyplot as plt\n",
    "from scipy.optimize import minimize\n",
    "import matplotlib.colors as mcolors"
   ]
  },
  {
   "cell_type": "code",
   "execution_count": null,
   "id": "523d5105-4131-41a1-be65-21471b67af4d",
   "metadata": {},
   "outputs": [],
   "source": [
    "home_dir = '/Users/trungpq/Workspace/clabsi/'"
   ]
  },
  {
   "cell_type": "markdown",
   "id": "9f4926e8-7e05-4e25-845b-6093a9174055",
   "metadata": {},
   "source": [
    "## Data"
   ]
  },
  {
   "cell_type": "code",
   "execution_count": null,
   "id": "93d766e8-aef8-4370-9b7e-9872883c0575",
   "metadata": {},
   "outputs": [],
   "source": [
    "df = pd.read_csv(home_dir + \"processed_data/clean_PatientData_20230315.csv\")\n",
    "col_names = ['EPIC', 'CRISP', 'NHSN_CLABSI', 'Peds', 'Chemotherapy', 'OPAT', 'TPN', 'OtherTherapy', 'Port', 'PICC', 'TunneledCVC']\n",
    "df = df.loc[:, col_names]"
   ]
  },
  {
   "cell_type": "code",
   "execution_count": null,
   "id": "778b5e0a-2198-4472-b7fa-c60f81f46df0",
   "metadata": {},
   "outputs": [],
   "source": [
    "# composite proxy\n",
    "df['EPIC_or_CRISP'] = ((df['EPIC'] + df['CRISP']) > 0).astype(int)"
   ]
  },
  {
   "cell_type": "code",
   "execution_count": null,
   "id": "90111043-263b-4042-8255-35e00a51454e",
   "metadata": {},
   "outputs": [],
   "source": [
    "# ZAR graph: R <- C -> X(1) -> X <- R -> W\n",
    "X = 'NHSN_CLABSI'          # Observed proxy of the zero-inflated variable\n",
    "# W = 'EPIC_or_CRISP'        # Inflation indicator's proxy\n",
    "W = 'EPIC'\n",
    "C = ['Peds', 'Chemotherapy', 'OPAT', 'TPN', 'OtherTherapy', 'Port', 'PICC', 'TunneledCVC']    # Observed covariates\n",
    "\n",
    "# File name to save result\n",
    "file_name = (\n",
    "    'PatientData_20230315'\n",
    "    + '-W_' + ''.join([x[0] for x in W.split('_')])\n",
    "    + '-X_' + X[:2]\n",
    "    + '-C_' + '_'.join([str(x[0:2]) for x in C])\n",
    ")"
   ]
  },
  {
   "cell_type": "code",
   "execution_count": null,
   "id": "054a45ee-1955-45c2-a486-d15cd8e73290",
   "metadata": {},
   "outputs": [],
   "source": [
    "df"
   ]
  },
  {
   "cell_type": "markdown",
   "id": "0ac312e2-fa7b-4679-884d-807ea89cc2bd",
   "metadata": {},
   "source": [
    "## Empirical distribution"
   ]
  },
  {
   "cell_type": "code",
   "execution_count": null,
   "id": "35e6bea9-cedd-40eb-a249-e83cc2c196ec",
   "metadata": {},
   "outputs": [],
   "source": [
    "def fix_div_by_zero(p):\n",
    "    p = p + 1E-20\n",
    "    p = p / np.sum(p)\n",
    "    return p"
   ]
  },
  {
   "cell_type": "code",
   "execution_count": null,
   "id": "64166023-1946-4261-a891-7985a2b27d40",
   "metadata": {},
   "outputs": [],
   "source": [
    "# find the joint distribution\n",
    "df[\"prob\"] = 1\n",
    "\n",
    "# empirical value of p(W,X,C) for (W,X,C) in the support\n",
    "p_WXC = df.loc[:, [W, X] + C + ['prob']].groupby([W, X] + C).count()\n",
    "p_WXC = p_WXC / p_WXC.sum()\n",
    "p_WXC_idx = pd.Series(p_WXC.index.values)\n",
    "p_WXC_val = p_WXC.values.flatten()\n",
    "\n",
    "# Array of vector values for (W,X,C)\n",
    "WXC_vals = pd.Series(product(*[[0, 1] for i in range(len([W, X] + C))]))\n",
    "# Array of vector values for (X,C)\n",
    "XC_vals = pd.Series(product(*[[0, 1] for i in range(len([X] + C))]))\n",
    "C_vals = pd.Series(product(*[[0, 1] for i in range(len(C))]))\n",
    "\n",
    "# empirical distribution\n",
    "p_WXC_emp = pd.Series(np.zeros(len(WXC_vals)))\n",
    "# (wxc) in the support\n",
    "mask = WXC_vals.isin(p_WXC_idx)\n",
    "# assign value for p(wxc) with (wxc) in the support\n",
    "p_WXC_emp[mask] = WXC_vals[mask].apply(lambda x: p_WXC_val[p_WXC_idx == x][0])"
   ]
  },
  {
   "cell_type": "code",
   "execution_count": null,
   "id": "cf7ee080-4dbd-4765-b4e7-b4660d22d6e7",
   "metadata": {},
   "outputs": [],
   "source": [
    "p_WXC_emp = p_WXC_emp.to_numpy().reshape(2, -1)\n",
    "p_XC_emp = p_WXC_emp.sum(axis=0)\n",
    "p_XC_emp = fix_div_by_zero(p_XC_emp)\n",
    "# conditional distribution p(W=0 | X, C)\n",
    "p_W_XC_emp = np.einsum('wi,i->wi', p_WXC_emp, 1/p_XC_emp).reshape(2, 2, -1)\n",
    "\n",
    "p_WXC_emp = pd.Series(p_WXC_emp.flatten())"
   ]
  },
  {
   "cell_type": "markdown",
   "id": "c9984d5a-3ccf-4d4f-a7cf-706a6e576159",
   "metadata": {},
   "source": [
    "## Checking marginal constraints"
   ]
  },
  {
   "cell_type": "markdown",
   "id": "80889ebe-757d-4e13-9d9c-c0a2d4263ac8",
   "metadata": {},
   "source": [
    "### Check: $p(w_0|x_1, c) = p(w_0|x_1)$ for all c"
   ]
  },
  {
   "cell_type": "code",
   "execution_count": null,
   "id": "0e8a3a34-816c-45db-91ab-d29b13b27a06",
   "metadata": {},
   "outputs": [],
   "source": [
    "# Is p(w0|x1,c) = p(w0|x1) for all c?\n",
    "p_w0_x1C_map = pd.Series(p_W_XC_emp[0,1,:])\n",
    "p_w0_x1C_map.describe()"
   ]
  },
  {
   "cell_type": "markdown",
   "id": "f3ed22bf-a4b1-4091-9dba-88bfe80d87b8",
   "metadata": {},
   "source": [
    "### Check: $OR(c)$ for all c"
   ]
  },
  {
   "cell_type": "code",
   "execution_count": null,
   "id": "7fd5757d-aede-41f9-87a1-49f4cf71c676",
   "metadata": {},
   "outputs": [],
   "source": [
    "def odd_ratio(p,c=0):\n",
    "    \"\"\"\n",
    "    Input:\n",
    "        If c=None, p is 2x2x1 matrix with p[i,j,0] = p(a=i|b=j).\n",
    "        If c is cardinal, p is 2x2xcard_c matrix with p[i,j,k] = p(a=i|b=j,c=k).\n",
    "    Output: Odd-ratio p(a=1|b=1,c) / p(a=0|b=1,c) * p(a=0|b=0,c) / p(a=1|b=0,c)\n",
    "    \"\"\"\n",
    "    c = 0 if p.shape[2] == 1 else c\n",
    "    return p[1,1,c]/p[0,1,c] * p[0,0,c]/p[1,0,c]"
   ]
  },
  {
   "cell_type": "code",
   "execution_count": null,
   "id": "a37ddfb0-5f4b-492a-9782-12b02acfca86",
   "metadata": {},
   "outputs": [],
   "source": [
    "# Is OR(c) > 1 for all c or OR(c) < 1 for all c?\n",
    "ORs = []\n",
    "for c, c_val in enumerate(C_vals):\n",
    "    ORs.append(\n",
    "        odd_ratio(p_W_XC_emp, c)\n",
    "    )\n",
    "ORs = np.asarray(ORs);\n",
    "print(f\"Does marginal constraint OR>1 or OR<1 for all c hold?: {(ORs > 1).all() or (ORs < 1).all()}.\")"
   ]
  },
  {
   "cell_type": "markdown",
   "id": "78cb11ae-a160-48cb-b157-f8d4dbfc12f9",
   "metadata": {},
   "source": [
    "Since max = 0.4, min = 0.0, the empirical distribution does not satisfy the marginal constraint of ZI MAR model. Therefore, we resort to finding the MLE of the observed law $p(W,X,C)$ inside the model."
   ]
  },
  {
   "cell_type": "markdown",
   "id": "310bcf70-6fca-49df-8491-ea31c05e8eee",
   "metadata": {},
   "source": [
    "## ZI MAR: full model EM"
   ]
  },
  {
   "cell_type": "code",
   "execution_count": null,
   "id": "32d2b5fe-7f21-448c-9ff0-58cf51799a12",
   "metadata": {},
   "outputs": [],
   "source": [
    "import jax.numpy as jnp\n",
    "from jax import jit, grad, jacrev, jacfwd\n",
    "from jax import random\n",
    "\n",
    "from jax import config\n",
    "\n",
    "config.update(\"jax_enable_x64\", True)\n",
    "\n",
    "CARD_C = int(len(WXC_vals) / 4)    # binary W,X\n",
    "\n",
    "def logisreg(params):\n",
    "    return 1 / (1 + jnp.exp(-params))\n",
    "\n",
    "def get_p_C(param_C):\n",
    "    p = jnp.exp(-jnp.concatenate((param_C, jnp.asarray([0])))).astype(np.double)\n",
    "    return p / jnp.sum(p)\n",
    "\n",
    "def get_p_X1_C(param_x10_C):\n",
    "    p_x10_C = logisreg(param_x10_C).flatten()\n",
    "    return jnp.vstack((p_x10_C, 1-p_x10_C)).reshape(2, -1)\n",
    "\n",
    "def get_p_R_C(param_r0_C):\n",
    "    p_r0_C = logisreg(param_r0_C).flatten()\n",
    "    return jnp.vstack((p_r0_C, 1-p_r0_C)).reshape(2, -1)\n",
    "\n",
    "def get_p_W_R(param_w0_R):\n",
    "    p_w0_R = logisreg(param_w0_R).flatten()\n",
    "    return jnp.vstack((p_w0_R, 1-p_w0_R)).reshape(2, -1)\n",
    "\n",
    "def get_p_X_RX1():\n",
    "    p_X_RX1 = np.zeros((2, 2, 2))\n",
    "    p_X_RX1[0,0,:] = 1\n",
    "    p_X_RX1[0,1,0] = 1\n",
    "    p_X_RX1[1,1,1] = 1\n",
    "    return p_X_RX1\n",
    "\n",
    "def get_joint(params):\n",
    "    \"\"\"\n",
    "    calculate the joint distribution p(X1,X,R,C,W) given parameters\n",
    "    \"\"\"\n",
    "    param_C = params[:CARD_C-1]                   # card_C - 1 params\n",
    "    param_x10_C = params[CARD_C-1:2*CARD_C-1]     # card_C params\n",
    "    param_r0_C = params[2*CARD_C-1:3*CARD_C-1]    # card_C params\n",
    "    param_w0_R = params[3*CARD_C-1:]\n",
    "\n",
    "    p_C = get_p_C(param_C)\n",
    "    p_X1_C = get_p_X1_C(param_x10_C)\n",
    "    p_R_C = get_p_R_C(param_r0_C)\n",
    "    p_W_R = get_p_W_R(param_w0_R)\n",
    "    p_X_RX1 = get_p_X_RX1()\n",
    "\n",
    "    p_X1C = jnp.einsum('xc,c->xc', p_X1_C, p_C)\n",
    "    p_RX1C = jnp.einsum('rc,xc->rxc', p_R_C, p_X1C)\n",
    "    p_XRX1C = jnp.einsum('xry,ryc->xryc', p_X_RX1, p_RX1C)\n",
    "    p_WXRX1C = jnp.einsum('wr,xryc->wxryc', p_W_R, p_XRX1C)\n",
    "    return p_WXRX1C\n",
    "\n",
    "def get_p_WXC2(params):\n",
    "    p_WXRX1C = get_joint(params)\n",
    "    return p_WXRX1C.sum(axis=(2,3))\n",
    "\n",
    "def get_p_RX1_WXC(params):\n",
    "    p_WXRX1C = get_joint(params)\n",
    "    p_WXC = p_WXRX1C.sum(axis=(2,3))\n",
    "    # p_WXC = p_WXC + 1E-20\n",
    "    # p_WXC = p_WXC / p_WXC.sum()\n",
    "    p_RX1_WXC = jnp.einsum('wxryc,wxc->rywxc', p_WXRX1C, 1/p_WXC)\n",
    "    return p_RX1_WXC\n",
    "\n",
    "logisreg = jit(logisreg)\n",
    "get_p_C = jit(get_p_C)\n",
    "get_p_X1_C = jit(get_p_X1_C)\n",
    "get_p_R_C = jit(get_p_R_C)\n",
    "get_p_W_R = jit(get_p_W_R)\n",
    "get_joint = jit(get_joint)\n",
    "get_p_WXC2 = jit(get_p_WXC2)\n",
    "get_p_RX1_WXC = jit(get_p_RX1_WXC)"
   ]
  },
  {
   "cell_type": "code",
   "execution_count": null,
   "id": "c009104f-12b0-4082-869a-5f2c722983ef",
   "metadata": {},
   "outputs": [],
   "source": [
    "# EM algorithm\n",
    "def expectation(new_params, p_RX1_WXC, data):\n",
    "    # expectation step\n",
    "    joint = get_joint(new_params) # there are p(v) = 0 making llh = -inf\n",
    "    joint = joint + 1E-20\n",
    "    joint = joint / joint.sum()\n",
    "    E = - jnp.sum(jnp.einsum('wxryc,rywxc->wxc', jnp.log(joint), p_RX1_WXC) * data)\n",
    "    return E\n",
    "\n",
    "expectation = jit(expectation)\n",
    "grad_exp = jit(grad(expectation, argnums=0))\n",
    "\n",
    "# fit params\n",
    "def fit_em(new_params, data):\n",
    "    o_threshold = 1E-4\n",
    "    o_delta = 1\n",
    "    while o_delta > o_threshold:\n",
    "        old_params = new_params\n",
    "        p_RX1_WXC = get_p_RX1_WXC(old_params)\n",
    "\n",
    "        # maximization step\n",
    "        i_threshold = 1E-2\n",
    "        i_delta = 1\n",
    "        new_params = init_params\n",
    "        while i_delta > i_threshold:\n",
    "            step = grad_exp(new_params, p_RX1_WXC, data)\n",
    "            new_params = new_params - 0.0001 * step\n",
    "            i_delta = jnp.max(jnp.abs(step))\n",
    "\n",
    "        o_delta = jnp.max(jnp.abs(new_params - old_params))\n",
    "        print(o_delta)\n",
    "    return new_params"
   ]
  },
  {
   "cell_type": "code",
   "execution_count": null,
   "id": "91d6e446-cfb3-4b91-b297-6c7d93878329",
   "metadata": {},
   "outputs": [],
   "source": [
    "# init params\n",
    "param_C = np.random.rand(CARD_C-1)      # CARD_C - 1 params\n",
    "param_x10_C = np.random.rand(CARD_C)    # CARD_C params\n",
    "param_r0_C = np.random.rand(CARD_C)     # CARD_C params\n",
    "param_w0_R = np.random.rand(2)\n",
    "init_params = jnp.asarray([*param_C, *param_x10_C, *param_r0_C, *param_w0_R])\n",
    "\n",
    "# fit\n",
    "data = p_WXC_emp.to_numpy().reshape(2, 2, CARD_C)\n",
    "data = jnp.asarray(data)\n",
    "em_params = fit_em(init_params, data)"
   ]
  },
  {
   "cell_type": "code",
   "execution_count": null,
   "id": "19821dcc-10b5-4f22-b39f-e07fc195445f",
   "metadata": {},
   "outputs": [],
   "source": [
    "# mle of p(w,x,c)\n",
    "p_WXC_em = get_p_WXC2(em_params).reshape(2, -1)\n",
    "p_XC_em = p_WXC_em.sum(axis=0)\n",
    "p_XC_em = fix_div_by_zero(p_XC_em)\n",
    "p_W_XC_em = np.einsum('wi,i->wi', p_WXC_em, 1/p_XC_em).reshape(2, 2, -1)\n",
    "\n",
    "p_WXC_em = pd.Series(get_p_WXC2(em_params).flatten())\n",
    "\n",
    "pd.DataFrame({\n",
    "    'wxc': WXC_vals,\n",
    "    'emp': p_WXC_emp,\n",
    "    'em_zar': p_WXC_em\n",
    "}).to_csv(f\"p_wxc-{file_name}.csv\", index=False)"
   ]
  },
  {
   "cell_type": "markdown",
   "id": "0bc7683b-1429-44e3-bbc7-22e6580e33d9",
   "metadata": {},
   "source": [
    "#### Check constraints"
   ]
  },
  {
   "cell_type": "code",
   "execution_count": null,
   "id": "49a62118-487a-424d-879e-d262d52404c1",
   "metadata": {},
   "outputs": [],
   "source": [
    "# Check: p(w_0|x_1, c) = p(w_0|x_1) for all c ?\n",
    "p_w0_x1C_em = pd.Series(p_W_XC_em[0,1,:])\n",
    "p_w0_x1C_em.describe()"
   ]
  },
  {
   "cell_type": "code",
   "execution_count": null,
   "id": "d31a30df-ea55-414d-802b-8a87826c15b8",
   "metadata": {},
   "outputs": [],
   "source": [
    "# Is OR(c) > 1 for all c or OR(c) < 1 for all c?\n",
    "ORs = []\n",
    "for c, c_val in enumerate(C_vals):\n",
    "    ORs.append(\n",
    "        odd_ratio(p_W_XC_em , c)\n",
    "    )\n",
    "ORs = np.asarray(ORs);\n",
    "print(f\"Does marginal constraint OR>1 or OR<1 for all c hold?: {(ORs > 1).all() or (ORs < 1).all()}.\")"
   ]
  },
  {
   "cell_type": "markdown",
   "id": "3896efd5-16ec-4c67-a962-417b0b4bf42a",
   "metadata": {},
   "source": [
    "## Sensitivity-analysis"
   ]
  },
  {
   "cell_type": "markdown",
   "id": "341f4b9b-cda0-4047-80ff-9bbdf7b6ba2c",
   "metadata": {},
   "source": [
    "### Proxy-indicator conditional distribution and Compatibility bound"
   ]
  },
  {
   "cell_type": "code",
   "execution_count": null,
   "id": "4ec72290-7986-42b5-bad8-41b9095f7448",
   "metadata": {},
   "outputs": [],
   "source": [
    "def get_bounds(p_WXC):\n",
    "    \"\"\"\n",
    "    p_WXC is a 2x2xCARD_C array\n",
    "    Assuming C does NOT point to W\n",
    "    \"\"\"\n",
    "    p_XC = np.sum(p_WXC, axis=0)\n",
    "    p_XC = fix_div_by_zero(p_XC)\n",
    "    p_W_XC = np.einsum('wxc,xc->wxc', p_WXC, 1/p_XC).reshape(2, 2, -1)\n",
    "    \n",
    "    # p(w0|r1) = p(x0|x1) is point identified\n",
    "    p_w0_r1 = p_W_XC[0,1,0]\n",
    "    \n",
    "    # bounds for p(w0|r0)\n",
    "    if p_W_XC[0,0,0] > p_W_XC[0,1,0]:\n",
    "        analytic_lb = p_W_XC[0,:,:].max()\n",
    "        analytic_ub = 1\n",
    "        cutoff_lb = analytic_lb + (analytic_ub - analytic_lb)/10\n",
    "        cutoff_ub = analytic_ub\n",
    "    elif p_W_XC[0,0,0] < p_W_XC[0,1,0]:\n",
    "        analytic_lb = 0\n",
    "        analytic_ub = p_W_XC[0,:,:].min()\n",
    "        cutoff_lb = 0\n",
    "        cutoff_ub = analytic_ub - (analytic_ub - analytic_lb)/10\n",
    "    else:\n",
    "        print(\"Marginal constraint OR>1 or OR<1 does not hold.\")\n",
    "        analytic_lb = -1\n",
    "        analytic_ub = -1\n",
    "    \n",
    "    print(f\"p(w0|r1) is identfied = {p_w0_r1}.\")\n",
    "    print(f\"Bounds: {analytic_lb} < p(w0|r0) < {analytic_ub}.\")\n",
    "\n",
    "    K = 50    # number of points to consider\n",
    "    if analytic_lb == analytic_ub:\n",
    "        p_w0_r0s = [analytic_lb]\n",
    "    else:\n",
    "        p_w0_r0s = np.linspace(analytic_lb, analytic_ub, K)\n",
    "    return p_w0_r1, p_w0_r0s, analytic_lb, analytic_ub\n",
    "\n",
    "def get_bounds_2(p_WXC, C_vals):\n",
    "    \"\"\"\n",
    "    p_WXC is a 2x2xCARD_C array\n",
    "    Assuming C point to W\n",
    "    \"\"\"\n",
    "    p_C = np.sum(p_WXC, axis=(0,1))\n",
    "    p_C = fix_div_by_zero(p_C)\n",
    "    p_WX_C = np.einsum('wxc,c->wxc', p_WXC, 1/p_C).reshape(2, 2, -1)\n",
    "\n",
    "    p_w0_r1, analytic_lb, analytic_ub = np.zeros(len(p_C)), np.zeros(len(p_C)), np.zeros(len(p_C))\n",
    "    for c, c_val in enumerate(C_vals):\n",
    "        p_WX_c = p_WX_C[:,:,c].reshape(2, 2, -1)    # p(WX | C=c)\n",
    "        p_w0_r1[c], _, analytic_lb[c], analytic_ub[c] = get_bounds(p_WX_c, [0])\n",
    "    return p_w0_r1, analytic_lb, analytic_ub"
   ]
  },
  {
   "cell_type": "markdown",
   "id": "516450c3-e8e9-4321-9723-374b722213b4",
   "metadata": {},
   "source": [
    "### Calculate rate"
   ]
  },
  {
   "cell_type": "code",
   "execution_count": null,
   "id": "5988c275-a817-40c4-b60e-428932a20b78",
   "metadata": {},
   "outputs": [],
   "source": [
    "def calc_rate(p_WXC, p_w0_r1, p_w0_r0s):\n",
    "    \"\"\"\n",
    "    Assuming C does NOT point to W\n",
    "    \"\"\"\n",
    "    # ZI law restoration and target calculation\n",
    "    p_RXCs = []\n",
    "    p_x11s = []\n",
    "    for p_w0_r0 in p_w0_r0s:\n",
    "        p_W_R = np.asarray([\n",
    "            [p_w0_r0, p_w0_r1],\n",
    "            [1-p_w0_r0, 1-p_w0_r1],\n",
    "        ])\n",
    "        # Kuroki-Pearl matrix inversion equation\n",
    "        inv = np.asarray([\n",
    "            [1-p_w0_r1, -p_w0_r1],\n",
    "            [p_w0_r0-1, p_w0_r0],\n",
    "        ]) / (p_w0_r0 - p_w0_r1)\n",
    "        p_RXC = np.matmul(inv, p_WXC.reshape(2, -1))    # reshaped to W_axis x XC_axis\n",
    "        # p_RXC = np.linalg.inv(p_W_R) @ p_WXC.reshape(2, -1)\n",
    "        p_RXCs.append(p_RXC)\n",
    "    \n",
    "        # check that p_RXC is a random matrix\n",
    "        # assert (p_RXC >= -1E-12).all()    # non-negativity condition. Small noise may occur.\n",
    "        \n",
    "        # Target = clabsi rate if ZI had not occured = p(X(1) = 1)\n",
    "        if len(C_vals) == 1:    # if ZCAR then len == 1\n",
    "            # ZI MCAR: p(x(1)=1) = p(x(1)=1 | r=1) = p(x=1 | r=1)\n",
    "            p_R = p_RXC.sum(axis=1)\n",
    "            p_R = fix_div_by_zero(p_R)\n",
    "            p_X_R = np.einsum('rx,r->xr', p_RXC, 1/p_R)\n",
    "            p_x11 = p_X_R[1,1]\n",
    "            p_x11s.append(p_x11)\n",
    "        else:\n",
    "            # ZI MAR: p(x(1)=1) = \\sum_c p(x=1 | r=1, c) p(c)\n",
    "            p_RXC = p_RXC.reshape(2, 2, -1)    # reshape to W_axis x X_axis x C_axis\n",
    "            p_RC = np.sum(p_RXC, axis=1)\n",
    "            p_RC = fix_div_by_zero(p_RC)\n",
    "            p_X_RC = np.einsum('rxc,rc->xrc', p_RXC, 1/p_RC)\n",
    "            p_C = np.sum(p_RXC, axis=(0, 1))\n",
    "            p_x11 = np.matmul(p_X_RC[1,1,:], p_C)\n",
    "            p_x11s.append(p_x11)\n",
    "\n",
    "    return p_x11s, p_RXCs\n",
    "\n",
    "# def calc_rate_2(p_WXC, p_w0_r1, analytic_lbC, analytic_ubC, C_vals):\n",
    "#     \"\"\"\n",
    "#     Assuming C points to W\n",
    "#     \"\"\"\n",
    "#     # ZI law restoration and target calculation\n",
    "#     p_x11s = []\n",
    "#     for bound in [analytic_lbC, analytic_ubC]:\n",
    "#         p_RXC = np.zeros_like(p_WXC)\n",
    "#         # calc p(WXc) for each c\n",
    "#         for c, c_val in enumerate(C_vals):\n",
    "#             p_w0_r0 = bound[c]\n",
    "#             p_W_R = np.asarray([\n",
    "#                 [p_w0_r0, p_w0_r1],\n",
    "#                 [1-p_w0_r0, 1-p_w0_r1],\n",
    "#             ])\n",
    "#             # Kuroki-Pearl matrix inversion equation\n",
    "#             inv = np.asarray([\n",
    "#                 [1-p_w0_r1, -p_w0_r1],\n",
    "#                 [p_w0_r0-1, p_w0_r0],\n",
    "#             ]) / (p_w0_r0 - p_w0_r1)\n",
    "#             p_RXC[:,:,c] = inv @ p_WXC[:,:,c]\n",
    "        \n",
    "#         # ZI MAR: p(x(1)=1) = \\sum_c p(x=1 | r=1, c) p(c)\n",
    "#         p_RC = np.sum(p_RXC, axis=1)\n",
    "#         p_RC = fix_div_by_zero(p_RC)\n",
    "#         p_X_RC = np.einsum('rxc,rc->xrc', p_RXC, 1/p_RC)\n",
    "#         p_C = np.sum(p_RXC, axis=(0, 1))\n",
    "#         p_x11 = p_X_RC[1,1,:] @ p_C\n",
    "#         p_x11s.append(p_x11)\n",
    "\n",
    "#     dummy_xs = np.linspace(np.min(analytic_lbC), np.max(analytic_ubC), len(p_x11s))\n",
    "#     return p_x11s, dummy_xs"
   ]
  },
  {
   "cell_type": "markdown",
   "id": "ee561d29-d721-4e88-9d08-11f2c0253b02",
   "metadata": {},
   "source": [
    "### Comparison"
   ]
  },
  {
   "cell_type": "markdown",
   "id": "56d19672-dcef-4501-8be7-c5f85a332987",
   "metadata": {},
   "source": [
    "We fit p(WXC) using ZI MAR EM, where $W$ is either 'EPIC' or 'composite'. We then perform sensitivity analysis using these fitted p(WXC).\n",
    "Finally we plot no_missing_clabsi_rate (or observed rate) vs estimated CLABSI rate using the newly found compatible p(W|R)s."
   ]
  },
  {
   "cell_type": "code",
   "execution_count": 64,
   "id": "d405aa03-b433-4304-a473-9dd527b81bc3",
   "metadata": {},
   "outputs": [
    {
     "name": "stdout",
     "output_type": "stream",
     "text": [
      "PatientData_20230315-W_E-X_NH-C_Pe_Ch_OP_TP_Ot_Po_PI_Tu\n",
      "p(w0|r1) is identfied = 0.5646676211015283.\n",
      "Bounds: 0.8982735294682401 < p(w0|r0) < 1.\n"
     ]
    }
   ],
   "source": [
    "# W = epic\n",
    "W = 'EPIC'\n",
    "file_name = (\n",
    "    'PatientData_20230315'\n",
    "    + '-W_' + ''.join([x[0] for x in W.split('_')])\n",
    "    + '-X_' + X[:2]\n",
    "    + '-C_' + '_'.join([str(x[0:2]) for x in C])\n",
    ")\n",
    "\n",
    "print(file_name)\n",
    "df = pd.read_csv(f\"p_wxc-{file_name}.csv\")\n",
    "p_WXC_em_e = deepcopy(df[\"em_zar\"])\n",
    "\n",
    "p_WXC = p_WXC_em_e.to_numpy().reshape(2,2,-1)\n",
    "p_w0_r1_em_e, p_w0_r0s_em_e, analytic_lb_em_e, analytic_ub_em_e = get_bounds(p_WXC)\n",
    "p_x11s_em_e, _ = calc_rate(p_WXC, p_w0_r1_em_e, p_w0_r0s_em_e)"
   ]
  },
  {
   "cell_type": "code",
   "execution_count": 65,
   "id": "fceec19f-228b-43a5-92cf-b8a3532ae997",
   "metadata": {},
   "outputs": [
    {
     "name": "stdout",
     "output_type": "stream",
     "text": [
      "PatientData_20230315-W_EoC-X_NH-C_Pe_Ch_OP_TP_Ot_Po_PI_Tu\n",
      "p(w0|r1) is identfied = 0.5642613279058033.\n",
      "Bounds: 0.8992726040514565 < p(w0|r0) < 1.\n"
     ]
    }
   ],
   "source": [
    "# # to read from save file and replot\n",
    "W = 'EPIC_or_CRISP'        # Inflation indicator's proxy\n",
    "file_name = (\n",
    "    'PatientData_20230315'\n",
    "    + '-W_' + ''.join([x[0] for x in W.split('_')])\n",
    "    + '-X_' + X[:2]\n",
    "    + '-C_' + '_'.join([str(x[0:2]) for x in C])\n",
    ")\n",
    "\n",
    "print(file_name)\n",
    "df = pd.read_csv(f\"p_wxc-{file_name}.csv\")\n",
    "p_WXC_em_mix = deepcopy(df[\"em_zar\"])\n",
    "\n",
    "p_WXC = p_WXC_em_mix.to_numpy().reshape(2,2,-1)\n",
    "p_w0_r1_em_mix, p_w0_r0s_em_mix, analytic_lb_em_mix, analytic_ub_em_mix = get_bounds(p_WXC)\n",
    "p_x11s_em_mix, _ = calc_rate(p_WXC, p_w0_r1_em_mix, p_w0_r0s_em_mix)"
   ]
  },
  {
   "cell_type": "code",
   "execution_count": null,
   "id": "b8ab4ce0-a28d-4f19-bb6e-ee45bcd9b6aa",
   "metadata": {},
   "outputs": [],
   "source": [
    "W = 'EPIC_or_CRISP'        # Inflation indicator's proxy\n",
    "output_name = (\n",
    "    'PatientData_20230315'\n",
    "    + '-W_' + ''.join([x[0] for x in W.split('_')])\n",
    "    + '-X_' + X[:2]\n",
    "    + '-C_' + '_'.join([str(x[0:2]) for x in C])\n",
    ")"
   ]
  },
  {
   "cell_type": "code",
   "execution_count": 63,
   "id": "364f9d29-45a2-45a9-8d59-7271a279979f",
   "metadata": {},
   "outputs": [
    {
     "data": {
      "image/png": "[encoded data removed]",
      "text/plain": [
       "<Figure size 800x500 with 1 Axes>"
      ]
     },
     "metadata": {},
     "output_type": "display_data"
    }
   ],
   "source": [
    "# plot sensitivity-analysis curve\n",
    "\n",
    "plt.figure(figsize=(8,5))\n",
    "\n",
    "plt.plot(p_w0_r0s_em_e, p_x11s_em_e, \"*\", c='#FE6100', lw=1, ms=8, label=\"EHRS\")            # EHRS is EPIC, for blind submission version\n",
    "plt.plot(p_w0_r0s_em_mix, p_x11s_em_mix, \"^\", c='#785EF0', lw=1, ms=8, label=\"EHRS or HIE\") # HIE is CRIPS, for blind submission version\n",
    "all_p_w0_r0s = [*p_w0_r0s_em_e, *p_w0_r0s_em_mix]\n",
    "observed_rate = np.sum(p_WXC_emp.to_numpy().reshape(2,2,-1), axis=(0,2))[1]\n",
    "plt.plot([np.min(all_p_w0_r0s), np.max(all_p_w0_r0s)], np.ones(2)*observed_rate, \"-\", c=\"#FFB000\", lw=3, label=f\"observed rate: {observed_rate*100:.2f}%\")\n",
    "\n",
    "plt.rcParams.update({'font.size': 16})\n",
    "\n",
    "plt.xlabel(\"Pr( not having data access | ZI-case ), $p(W=0|R=0)$\", fontsize=16) #, fontweight='bold')\n",
    "plt.ylabel(\"CLABSI rate\", fontsize=16) #, fontweight='bold')\n",
    "plt.legend(loc=\"upper right\", fontsize=16)\n",
    "plt.suptitle(\"Adjusted CLABSI rate sensitivity analysis\", fontsize=20)\n",
    "plt.title(\"Data: PatientData_20230315\", fontsize=12)\n",
    "plt.savefig(f'{output_name}.jpeg')\n",
    "plt.savefig('UAI_clabsi.jpeg')"
   ]
  }
 ],
 "metadata": {
  "kernelspec": {
   "display_name": "Python 3 (ipykernel)",
   "language": "python",
   "name": "python3"
  },
  "language_info": {
   "codemirror_mode": {
    "name": "ipython",
    "version": 3
   },
   "file_extension": ".py",
   "mimetype": "text/x-python",
   "name": "python",
   "nbconvert_exporter": "python",
   "pygments_lexer": "ipython3",
   "version": "3.11.5"
  }
 },
 "nbformat": 4,
 "nbformat_minor": 5
}
