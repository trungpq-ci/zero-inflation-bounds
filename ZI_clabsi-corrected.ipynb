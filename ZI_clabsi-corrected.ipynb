{
 "cells": [
  {
   "cell_type": "code",
   "execution_count": 1,
   "id": "8afd2620-fc10-46e5-ab12-dc68276e14dd",
   "metadata": {},
   "outputs": [],
   "source": [
    "import io\n",
    "import sys\n",
    "import numpy as np\n",
    "import pandas as pd\n",
    "from copy import deepcopy\n",
    "from itertools import product\n",
    "from matplotlib import pyplot as plt\n",
    "from scipy.optimize import minimize\n",
    "import matplotlib.colors as mcolors"
   ]
  },
  {
   "cell_type": "code",
   "execution_count": 2,
   "id": "523d5105-4131-41a1-be65-21471b67af4d",
   "metadata": {},
   "outputs": [],
   "source": [
    "home_dir = '/Users/trungpq/Workspace/dev/clabsi/'"
   ]
  },
  {
   "cell_type": "markdown",
   "id": "9f4926e8-7e05-4e25-845b-6093a9174055",
   "metadata": {},
   "source": [
    "## Data"
   ]
  },
  {
   "cell_type": "markdown",
   "id": "568e6563-878d-4ebe-b9d6-9a6fe51bc4e8",
   "metadata": {},
   "source": [
    "The result in this notebook is a bit different to our UAI submission because we found and fixed a bug in the data pre-processing part."
   ]
  },
  {
   "cell_type": "code",
   "execution_count": 3,
   "id": "93d766e8-aef8-4370-9b7e-9872883c0575",
   "metadata": {},
   "outputs": [],
   "source": [
    "df = pd.read_csv(home_dir + \"processed_data/clean_202406121003_PatientData.csv\")\n",
    "col_names = ['EPIC', 'CRISP', 'NHSN_CLABSI', 'Peds', 'Chemotherapy', 'OPAT', 'TPN', 'OtherTherapy', 'Port', 'PICC', 'TunneledCVC']\n",
    "df = df.loc[:, col_names]"
   ]
  },
  {
   "cell_type": "code",
   "execution_count": 4,
   "id": "778b5e0a-2198-4472-b7fa-c60f81f46df0",
   "metadata": {},
   "outputs": [],
   "source": [
    "# composite proxy\n",
    "df['EPIC_or_CRISP'] = ((df['EPIC'] + df['CRISP']) > 0).astype(int)"
   ]
  },
  {
   "cell_type": "code",
   "execution_count": 5,
   "id": "90111043-263b-4042-8255-35e00a51454e",
   "metadata": {},
   "outputs": [],
   "source": [
    "# ZAR graph: R <- C -> X(1) -> X <- R -> W\n",
    "X = 'NHSN_CLABSI'          # Observed proxy of the zero-inflated variable\n",
    "W = 'EPIC'\n",
    "# W = 'CRISP'\n",
    "# W = 'EPIC_or_CRISP'        # Inflation indicator's proxy\n",
    "C = ['Peds', 'Chemotherapy', 'OPAT', 'TPN', 'OtherTherapy', 'Port', 'PICC', 'TunneledCVC']    # Observed covariates\n",
    "\n",
    "# File name to save result\n",
    "file_name = (\n",
    "    f'202406271433-{W.lower()}'\n",
    ")"
   ]
  },
  {
   "cell_type": "code",
   "execution_count": 6,
   "id": "578ce50a-97c7-4a49-bc53-26a9aa987df5",
   "metadata": {},
   "outputs": [],
   "source": [
    "observed_rate = df.NHSN_CLABSI.mean()"
   ]
  },
  {
   "cell_type": "markdown",
   "id": "0ac312e2-fa7b-4679-884d-807ea89cc2bd",
   "metadata": {},
   "source": [
    "## Empirical distribution"
   ]
  },
  {
   "cell_type": "code",
   "execution_count": 7,
   "id": "35e6bea9-cedd-40eb-a249-e83cc2c196ec",
   "metadata": {},
   "outputs": [],
   "source": [
    "def fix_div_by_zero(p):\n",
    "    p = p + 1E-20\n",
    "    p = p / np.sum(p)\n",
    "    return p"
   ]
  },
  {
   "cell_type": "code",
   "execution_count": 8,
   "id": "64166023-1946-4261-a891-7985a2b27d40",
   "metadata": {},
   "outputs": [],
   "source": [
    "# find the joint distribution\n",
    "df[\"prob\"] = 1\n",
    "\n",
    "# empirical value of p(W,X,C) for (W,X,C) in the support\n",
    "p_WXC = df.loc[:, [W, X] + C + ['prob']].groupby([W, X] + C).count()\n",
    "p_WXC = p_WXC / p_WXC.sum()\n",
    "p_WXC_idx = pd.Series(p_WXC.index.values)\n",
    "p_WXC_val = p_WXC.values.flatten()\n",
    "\n",
    "# Array of vector values for (W,X,C)\n",
    "WXC_vals = pd.Series(product(*[[0, 1] for i in range(len([W, X] + C))]))\n",
    "# Array of vector values for (X,C)\n",
    "XC_vals = pd.Series(product(*[[0, 1] for i in range(len([X] + C))]))\n",
    "C_vals = pd.Series(product(*[[0, 1] for i in range(len(C))]))\n",
    "\n",
    "# empirical distribution\n",
    "p_WXC_emp = pd.Series(np.zeros(len(WXC_vals)))\n",
    "# (wxc) in the support\n",
    "mask = WXC_vals.isin(p_WXC_idx)\n",
    "# assign value for p(wxc) with (wxc) in the support\n",
    "p_WXC_emp[mask] = WXC_vals[mask].apply(lambda x: p_WXC_val[p_WXC_idx == x][0])"
   ]
  },
  {
   "cell_type": "code",
   "execution_count": 9,
   "id": "cf7ee080-4dbd-4765-b4e7-b4660d22d6e7",
   "metadata": {},
   "outputs": [],
   "source": [
    "p_WXC_emp = p_WXC_emp.to_numpy().reshape(2, -1)\n",
    "p_XC_emp = p_WXC_emp.sum(axis=0)\n",
    "p_XC_emp = fix_div_by_zero(p_XC_emp)\n",
    "# conditional distribution p(W=0 | X, C)\n",
    "p_W_XC_emp = np.einsum('wi,i->wi', p_WXC_emp, 1/p_XC_emp).reshape(2, 2, -1)\n",
    "\n",
    "p_WXC_emp = pd.Series(p_WXC_emp.flatten())"
   ]
  },
  {
   "cell_type": "markdown",
   "id": "c9984d5a-3ccf-4d4f-a7cf-706a6e576159",
   "metadata": {},
   "source": [
    "## Checking marginal constraints"
   ]
  },
  {
   "cell_type": "markdown",
   "id": "80889ebe-757d-4e13-9d9c-c0a2d4263ac8",
   "metadata": {},
   "source": [
    "### Check: $p(w_0|x_1, c) = p(w_0|x_1)$ for all c"
   ]
  },
  {
   "cell_type": "code",
   "execution_count": 10,
   "id": "0e8a3a34-816c-45db-91ab-d29b13b27a06",
   "metadata": {},
   "outputs": [
    {
     "data": {
      "text/plain": [
       "count    256.000000\n",
       "mean       0.040876\n",
       "std        0.161374\n",
       "min        0.000000\n",
       "25%        0.000000\n",
       "50%        0.000000\n",
       "75%        0.000000\n",
       "max        1.000000\n",
       "dtype: float64"
      ]
     },
     "execution_count": 10,
     "metadata": {},
     "output_type": "execute_result"
    }
   ],
   "source": [
    "# Is p(w0|x1,c) = p(w0|x1) for all c?\n",
    "p_w0_x1C_map = pd.Series(p_W_XC_emp[0,1,:])\n",
    "p_w0_x1C_map.describe()"
   ]
  },
  {
   "cell_type": "markdown",
   "id": "f3ed22bf-a4b1-4091-9dba-88bfe80d87b8",
   "metadata": {},
   "source": [
    "### Check: $OR(c)$ for all c"
   ]
  },
  {
   "cell_type": "code",
   "execution_count": 11,
   "id": "7fd5757d-aede-41f9-87a1-49f4cf71c676",
   "metadata": {},
   "outputs": [],
   "source": [
    "def odd_ratio(p,c=0):\n",
    "    \"\"\"\n",
    "    Input:\n",
    "        If c=None, p is 2x2x1 matrix with p[i,j,0] = p(a=i|b=j).\n",
    "        If c is cardinal, p is 2x2xcard_c matrix with p[i,j,k] = p(a=i|b=j,c=k).\n",
    "    Output: Odd-ratio p(a=1|b=1,c) / p(a=0|b=1,c) * p(a=0|b=0,c) / p(a=1|b=0,c)\n",
    "    \"\"\"\n",
    "    c = 0 if p.shape[2] == 1 else c\n",
    "    return p[1,1,c]/p[0,1,c] * p[0,0,c]/p[1,0,c]"
   ]
  },
  {
   "cell_type": "code",
   "execution_count": null,
   "id": "a37ddfb0-5f4b-492a-9782-12b02acfca86",
   "metadata": {},
   "outputs": [],
   "source": [
    "# Is OR(c) > 1 for all c or OR(c) < 1 for all c?\n",
    "ORs = []\n",
    "for c, c_val in enumerate(C_vals):\n",
    "    ORs.append(\n",
    "        odd_ratio(p_W_XC_emp, c)\n",
    "    )\n",
    "ORs = np.asarray(ORs);\n",
    "print(f\"Does marginal constraint OR>1 or OR<1 for all c hold?: {(ORs > 1).all() or (ORs < 1).all()}.\")"
   ]
  },
  {
   "cell_type": "markdown",
   "id": "78cb11ae-a160-48cb-b157-f8d4dbfc12f9",
   "metadata": {},
   "source": [
    "Since max = 0.4, min = 0.0, the empirical distribution does not satisfy the marginal constraint of ZI MAR model. Therefore, we resort to finding the MLE of the observed law $p(W,X,C)$ inside the model."
   ]
  },
  {
   "cell_type": "markdown",
   "id": "310bcf70-6fca-49df-8491-ea31c05e8eee",
   "metadata": {},
   "source": [
    "## ZI MAR: full model EM"
   ]
  },
  {
   "cell_type": "code",
   "execution_count": 13,
   "id": "32d2b5fe-7f21-448c-9ff0-58cf51799a12",
   "metadata": {},
   "outputs": [],
   "source": [
    "import jax.numpy as jnp\n",
    "from jax import jit, grad, jacrev, jacfwd\n",
    "from jax import random\n",
    "\n",
    "from jax import config\n",
    "\n",
    "config.update(\"jax_enable_x64\", True)\n",
    "\n",
    "# CARD_C = int(len(WXC_vals) / 4)    # binary W,X\n",
    "CARD_C = 1    # uncomment this if fit ZI MCAR, or fitting ZI MAR with C point to W\n",
    "\n",
    "def logisreg(params):\n",
    "    return 1 / (1 + jnp.exp(-params))\n",
    "\n",
    "def get_p_C(param_C):\n",
    "    p = jnp.exp(-jnp.concatenate((param_C, jnp.asarray([0])))).astype(np.double)\n",
    "    return p / jnp.sum(p)\n",
    "\n",
    "def get_p_X1_C(param_x10_C):\n",
    "    p_x10_C = logisreg(param_x10_C).flatten()\n",
    "    return jnp.vstack((p_x10_C, 1-p_x10_C)).reshape(2, -1)\n",
    "\n",
    "def get_p_R_C(param_r0_C):\n",
    "    p_r0_C = logisreg(param_r0_C).flatten()\n",
    "    return jnp.vstack((p_r0_C, 1-p_r0_C)).reshape(2, -1)\n",
    "\n",
    "def get_p_W_R(param_w0_R):\n",
    "    p_w0_R = logisreg(param_w0_R).flatten()\n",
    "    return jnp.vstack((p_w0_R, 1-p_w0_R)).reshape(2, -1)\n",
    "\n",
    "def get_p_X_RX1():\n",
    "    p_X_RX1 = np.zeros((2, 2, 2))\n",
    "    p_X_RX1[0,0,:] = 1\n",
    "    p_X_RX1[0,1,0] = 1\n",
    "    p_X_RX1[1,1,1] = 1\n",
    "    return p_X_RX1\n",
    "\n",
    "def get_joint(params):\n",
    "    \"\"\"\n",
    "    calculate the joint distribution p(X1,X,R,C,W) given parameters\n",
    "    \"\"\"\n",
    "    param_C = params[:CARD_C-1]                   # card_C - 1 params\n",
    "    param_x10_C = params[CARD_C-1:2*CARD_C-1]     # card_C params\n",
    "    param_r0_C = params[2*CARD_C-1:3*CARD_C-1]    # card_C params\n",
    "    param_w0_R = params[3*CARD_C-1:]\n",
    "\n",
    "    p_C = get_p_C(param_C)\n",
    "    p_X1_C = get_p_X1_C(param_x10_C)\n",
    "    p_R_C = get_p_R_C(param_r0_C)\n",
    "    p_W_R = get_p_W_R(param_w0_R)\n",
    "    p_X_RX1 = get_p_X_RX1()\n",
    "\n",
    "    p_X1C = jnp.einsum('xc,c->xc', p_X1_C, p_C)\n",
    "    p_RX1C = jnp.einsum('rc,xc->rxc', p_R_C, p_X1C)\n",
    "    p_XRX1C = jnp.einsum('xry,ryc->xryc', p_X_RX1, p_RX1C)\n",
    "    p_WXRX1C = jnp.einsum('wr,xryc->wxryc', p_W_R, p_XRX1C)\n",
    "    return p_WXRX1C\n",
    "\n",
    "def get_p_WXC2(params):\n",
    "    p_WXRX1C = get_joint(params)\n",
    "    return p_WXRX1C.sum(axis=(2,3))\n",
    "\n",
    "def get_p_RX1_WXC(params):\n",
    "    p_WXRX1C = get_joint(params)\n",
    "    p_WXC = p_WXRX1C.sum(axis=(2,3))\n",
    "    # p_WXC = p_WXC + 1E-20\n",
    "    # p_WXC = p_WXC / p_WXC.sum()\n",
    "    p_RX1_WXC = jnp.einsum('wxryc,wxc->rywxc', p_WXRX1C, 1/p_WXC)\n",
    "    return p_RX1_WXC\n",
    "\n",
    "logisreg = jit(logisreg)\n",
    "get_p_C = jit(get_p_C)\n",
    "get_p_X1_C = jit(get_p_X1_C)\n",
    "get_p_R_C = jit(get_p_R_C)\n",
    "get_p_W_R = jit(get_p_W_R)\n",
    "get_joint = jit(get_joint)\n",
    "get_p_WXC2 = jit(get_p_WXC2)\n",
    "get_p_RX1_WXC = jit(get_p_RX1_WXC)"
   ]
  },
  {
   "cell_type": "code",
   "execution_count": 14,
   "id": "5950670b-131b-43be-8552-757f65fa1c9b",
   "metadata": {},
   "outputs": [],
   "source": [
    "# EM algorithm\n",
    "def expectation(new_params, p_RX1_WXC, data):\n",
    "    # expectation step\n",
    "    joint = get_joint(new_params) # there are p(v) = 0 making llh = -inf\n",
    "    joint = joint + 1E-20\n",
    "    joint = joint / joint.sum()\n",
    "    E = - jnp.sum(jnp.einsum('wxryc,rywxc->wxc', jnp.log(joint), p_RX1_WXC) * data)\n",
    "    return E\n",
    "\n",
    "expectation = jit(expectation)\n",
    "grad_exp = jit(grad(expectation, argnums=0))\n",
    "\n",
    "# fit params\n",
    "def fit_em(new_params, data):\n",
    "    o_threshold = 1E-4\n",
    "    o_delta = 1\n",
    "    while o_delta > o_threshold:\n",
    "        old_params = new_params\n",
    "        p_RX1_WXC = get_p_RX1_WXC(old_params)\n",
    "\n",
    "        # maximization step\n",
    "        i_threshold = 1E-2\n",
    "        i_delta = 1\n",
    "        new_params = init_params\n",
    "        while i_delta > i_threshold:\n",
    "            step = grad_exp(new_params, p_RX1_WXC, data)\n",
    "            new_params = new_params - 0.0001 * step\n",
    "            i_delta = jnp.max(jnp.abs(step))\n",
    "\n",
    "        o_delta = jnp.max(jnp.abs(new_params - old_params))\n",
    "        print(o_delta)\n",
    "    return new_params"
   ]
  },
  {
   "cell_type": "markdown",
   "id": "c3b1df64-fd55-4d21-9e50-9f4165f9547b",
   "metadata": {},
   "source": [
    "### ZI MAR without C -> W"
   ]
  },
  {
   "cell_type": "code",
   "execution_count": null,
   "id": "91d6e446-cfb3-4b91-b297-6c7d93878329",
   "metadata": {},
   "outputs": [],
   "source": [
    "# init params\n",
    "param_C = np.random.rand(CARD_C-1)      # CARD_C - 1 params\n",
    "param_x10_C = np.random.rand(CARD_C)    # CARD_C params\n",
    "param_r0_C = np.random.rand(CARD_C)     # CARD_C params\n",
    "param_w0_R = np.random.rand(2)\n",
    "init_params = jnp.asarray([*param_C, *param_x10_C, *param_r0_C, *param_w0_R])\n",
    "\n",
    "# fit\n",
    "data = p_WXC_emp.to_numpy().reshape(2, 2, CARD_C)\n",
    "data = jnp.asarray(data)\n",
    "em_params = fit_em(init_params, data)"
   ]
  },
  {
   "cell_type": "code",
   "execution_count": null,
   "id": "19821dcc-10b5-4f22-b39f-e07fc195445f",
   "metadata": {},
   "outputs": [],
   "source": [
    "# mle of p(w,x,c)\n",
    "p_WXC_em = get_p_WXC2(em_params).reshape(2, -1)\n",
    "p_XC_em = p_WXC_em.sum(axis=0)\n",
    "p_XC_em = fix_div_by_zero(p_XC_em)\n",
    "p_W_XC_em = np.einsum('wi,i->wi', p_WXC_em, 1/p_XC_em).reshape(2, 2, -1)\n",
    "\n",
    "p_WXC_em = pd.Series(get_p_WXC2(em_params).flatten())\n",
    "\n",
    "pd.DataFrame({\n",
    "    'wxc': WXC_vals,\n",
    "    'emp': p_WXC_emp,\n",
    "    'em_zar': p_WXC_em\n",
    "}).to_csv(f\"p_wxc-{file_name}.csv\", index=False)"
   ]
  },
  {
   "cell_type": "markdown",
   "id": "0bc7683b-1429-44e3-bbc7-22e6580e33d9",
   "metadata": {},
   "source": [
    "#### Check constraints"
   ]
  },
  {
   "cell_type": "code",
   "execution_count": null,
   "id": "49a62118-487a-424d-879e-d262d52404c1",
   "metadata": {},
   "outputs": [],
   "source": [
    "# Check: p(w_0|x_1, c) = p(w_0|x_1) for all c ?\n",
    "p_w0_x1C_em = pd.Series(p_W_XC_em[0,1,:])\n",
    "p_w0_x1C_em.describe()"
   ]
  },
  {
   "cell_type": "code",
   "execution_count": null,
   "id": "d31a30df-ea55-414d-802b-8a87826c15b8",
   "metadata": {},
   "outputs": [],
   "source": [
    "# Is OR(c) > 1 for all c or OR(c) < 1 for all c?\n",
    "ORs = []\n",
    "for c, c_val in enumerate(C_vals):\n",
    "    ORs.append(\n",
    "        odd_ratio(p_W_XC_em , c)\n",
    "    )\n",
    "ORs = np.asarray(ORs);\n",
    "print(f\"Does marginal constraint OR>1 or OR<1 for all c hold?: {(ORs > 1).all() or (ORs < 1).all()}.\")"
   ]
  },
  {
   "cell_type": "markdown",
   "id": "a530aec9-2ea9-49ad-a0ea-ce15d80f6e6f",
   "metadata": {},
   "source": [
    "### ZI MAR with C -> W"
   ]
  },
  {
   "cell_type": "code",
   "execution_count": null,
   "id": "b49a338d-2444-4bc7-b639-4b942a94afd8",
   "metadata": {},
   "outputs": [],
   "source": [
    "# ZI MCAR is equivalent to ZI MAR with CARD_C=1\n",
    "# So to fit ZI MAR with C point to W, we fit ZI MCAR for p(WX |c) for each value c\n",
    "\n",
    "p_WXC = p_WXC_emp.to_numpy().reshape(2, 2, -1)\n",
    "p_C = np.sum(p_WXC, axis=(0,1))\n",
    "\n",
    "em_params = []\n",
    "p_WXC_em = np.zeros_like(p_WXC)\n",
    "\n",
    "# C values in the support of p(C)\n",
    "c_id = np.arange(len(p_C))[p_C > 0]\n",
    "\n",
    "for c in c_id:\n",
    "    # init params\n",
    "    CARD_C = 1\n",
    "    param_C = np.random.rand(CARD_C-1)      # CARD_C - 1 params\n",
    "    param_x10_C = np.random.rand(CARD_C)    # CARD_C params\n",
    "    param_r0_C = np.random.rand(CARD_C)     # CARD_C params\n",
    "    param_w0_R = np.random.rand(2)\n",
    "    init_params = jnp.asarray([*param_C, *param_x10_C, *param_r0_C, *param_w0_R])\n",
    "\n",
    "    # fit\n",
    "    p_WX_c = p_WXC[:,:,c] / p_C[c]\n",
    "    data = jnp.asarray(p_WX_c.reshape(2,2,1))\n",
    "    fit_params = fit_em(init_params, data)\n",
    "    em_params.append(fit_params)\n",
    "    p_WX_c_em = get_p_WXC2(fit_params).reshape(2, 2)\n",
    "    p_WXC_em[:, :, c] = p_WX_c_em * p_C[c]\n",
    "\n",
    "p_WXC_em = pd.Series(p_WXC_em.flatten())\n",
    "\n",
    "pd.DataFrame({\n",
    "    'wxc': WXC_vals,\n",
    "    'emp': p_WXC_emp,\n",
    "    'em_zar': p_WXC_em\n",
    "}).to_csv(f\"p_wxc-CtoW-{file_name}.csv\", index=False)"
   ]
  },
  {
   "cell_type": "markdown",
   "id": "3896efd5-16ec-4c67-a962-417b0b4bf42a",
   "metadata": {},
   "source": [
    "## Sensitivity-analysis"
   ]
  },
  {
   "cell_type": "markdown",
   "id": "341f4b9b-cda0-4047-80ff-9bbdf7b6ba2c",
   "metadata": {},
   "source": [
    "### Proxy-indicator conditional distribution and Compatibility bound"
   ]
  },
  {
   "cell_type": "code",
   "execution_count": 50,
   "id": "4ec72290-7986-42b5-bad8-41b9095f7448",
   "metadata": {},
   "outputs": [],
   "source": [
    "def get_bounds(p_WXC):\n",
    "    \"\"\"\n",
    "    p_WXC is a 2x2xCARD_C array\n",
    "    Assuming C does NOT point to W\n",
    "    \"\"\"\n",
    "    p_XC = np.sum(p_WXC, axis=0)\n",
    "    p_XC = fix_div_by_zero(p_XC)\n",
    "    p_W_XC = np.einsum('wxc,xc->wxc', p_WXC, 1/p_XC).reshape(2, 2, -1)\n",
    "    \n",
    "    # p(w0|r1) = p(x0|x1) is point identified\n",
    "    p_w0_r1 = p_W_XC[0,1,0]\n",
    "    \n",
    "    # bounds for p(w0|r0)\n",
    "    if p_W_XC[0,0,0] > p_W_XC[0,1,0]:\n",
    "        analytic_lb = p_W_XC[0,:,:].max()\n",
    "        analytic_ub = 1\n",
    "        cutoff_lb = analytic_lb + (analytic_ub - analytic_lb)/10\n",
    "        cutoff_ub = analytic_ub\n",
    "    elif p_W_XC[0,0,0] < p_W_XC[0,1,0]:\n",
    "        analytic_lb = 0\n",
    "        analytic_ub = p_W_XC[0,:,:].min()\n",
    "        cutoff_lb = 0\n",
    "        cutoff_ub = analytic_ub - (analytic_ub - analytic_lb)/10\n",
    "    else:\n",
    "        print(\"Zero-inflation does not occur\")\n",
    "        analytic_lb = 0\n",
    "        analytic_ub = 1\n",
    "    \n",
    "    print(f\"p(w0|r1) is identfied = {p_w0_r1}.\")\n",
    "    print(f\"Bounds: {analytic_lb} < p(w0|r0) < {analytic_ub}.\")\n",
    "\n",
    "    K = 50    # number of points to consider\n",
    "    if analytic_lb == analytic_ub:\n",
    "        p_w0_r0s = [analytic_lb]\n",
    "    else:\n",
    "        p_w0_r0s = np.linspace(analytic_lb, analytic_ub, K)\n",
    "    return p_w0_r1, p_w0_r0s, analytic_lb, analytic_ub\n",
    "\n",
    "def get_bounds_2(p_WXC, C_vals):\n",
    "    \"\"\"\n",
    "    p_WXC is a 2x2xCARD_C array\n",
    "    Assuming C point to W\n",
    "    p(XC) must have full support\n",
    "    \"\"\"\n",
    "    # only select the positive p(C)\n",
    "    p_C = np.sum(p_WXC, axis=(0,1))\n",
    "    c_id = np.arange(len(p_C))[p_C > 0]\n",
    "    p_WXC = p_WXC[:,:,c_id]\n",
    "    p_C = np.sum(p_WXC, axis=(0,1))\n",
    "    \n",
    "    p_WX_C = np.einsum('wxc,c->wxc', p_WXC, 1/p_C).reshape(2, 2, -1)\n",
    "    p_w0_r1, analytic_lb, analytic_ub = np.zeros(len(p_C)), np.zeros(len(p_C)), np.zeros(len(p_C))\n",
    "    \n",
    "    for c in range(len(p_C)):\n",
    "        p_WX_c = p_WX_C[:,:,c].reshape(2, 2, -1)    # p(WX | C=c)\n",
    "        p_w0_r1[c], _, analytic_lb[c], analytic_ub[c] = get_bounds(p_WX_c)\n",
    "\n",
    "    c_min = (analytic_ub - analytic_lb).argmin()\n",
    "    c_max = (analytic_ub - analytic_lb).argmax()\n",
    "\n",
    "    print(f\"narrowest bound = {(analytic_lb[c_min], analytic_ub[c_min])}, at c = {c_id[c_min]}\")\n",
    "    print(f\"widest bound = {(analytic_lb[c_max], analytic_ub[c_max])}, at c = {c_id[c_max]}\")\n",
    "\n",
    "    return p_w0_r1, analytic_lb, analytic_ub"
   ]
  },
  {
   "cell_type": "markdown",
   "id": "516450c3-e8e9-4321-9723-374b722213b4",
   "metadata": {},
   "source": [
    "### Calculate rate"
   ]
  },
  {
   "cell_type": "code",
   "execution_count": 25,
   "id": "5988c275-a817-40c4-b60e-428932a20b78",
   "metadata": {},
   "outputs": [],
   "source": [
    "def calc_rate(p_WXC, p_w0_r1, p_w0_r0s, C_vecs):\n",
    "    \"\"\"\n",
    "    Assuming C does NOT point to W\n",
    "    \"\"\"\n",
    "    # R-restoration and target calculation\n",
    "    p_RXCs = []\n",
    "    p_x11s = []\n",
    "    for p_w0_r0 in p_w0_r0s:\n",
    "        p_W_R = np.asarray([\n",
    "            [p_w0_r0, p_w0_r1],\n",
    "            [1-p_w0_r0, 1-p_w0_r1],\n",
    "        ])\n",
    "        # Kuroki-Pearl matrix inversion equation\n",
    "        inv = np.asarray([\n",
    "            [1-p_w0_r1, -p_w0_r1],\n",
    "            [p_w0_r0-1, p_w0_r0],\n",
    "        ]) / (p_w0_r0 - p_w0_r1)\n",
    "        p_RXC = np.matmul(inv, p_WXC.reshape(2, -1))    # reshaped to W_axis x XC_axis\n",
    "        # p_RXC = np.linalg.inv(p_W_R) @ p_WXC.reshape(2, -1)\n",
    "        p_RXCs.append(p_RXC)\n",
    "    \n",
    "        # check that p_RXC is a random matrix\n",
    "        # assert (p_RXC >= -1E-12).all()    # non-negativity condition. Small noise may occur.\n",
    "        \n",
    "        # Target = clabsi rate if ZI had not occured = p(X(1) = 1)\n",
    "        if len(C_vecs) == 1:    # if ZCAR then len == 1\n",
    "            # ZCAR: p(x(1)=1) = p(x(1)=1 | r=1) = p(x=1 | r=1)\n",
    "            p_R = p_RXC.sum(axis=1)\n",
    "            p_R = fix_div_by_zero(p_R)\n",
    "            p_X_R = np.einsum('rx,r->xr', p_RXC, 1/p_R)\n",
    "            p_x11 = p_X_R[1,1]\n",
    "            p_x11s.append(p_x11)\n",
    "        else:\n",
    "            # ZAR: p(x(1)=1) = \\sum_c p(x=1 | r=1, c) p(c)\n",
    "            p_RXC = p_RXC.reshape(2, 2, -1)    # reshape to W_axis x X_axis x C_axis\n",
    "            p_RC = np.sum(p_RXC, axis=1)\n",
    "            p_RC = fix_div_by_zero(p_RC)\n",
    "            p_X_RC = np.einsum('rxc,rc->xrc', p_RXC, 1/p_RC)\n",
    "            p_C = np.sum(p_RXC, axis=(0, 1))\n",
    "            p_x11 = np.matmul(p_X_RC[1,1,:], p_C)\n",
    "            p_x11s.append(p_x11)\n",
    "\n",
    "    return p_x11s, p_RXCs\n",
    "\n",
    "def calc_rate_2(p_WXC, p_w0_r1C, analytic_lbC, analytic_ubC, C_vals):\n",
    "    \"\"\"\n",
    "    Assuming C points to W\n",
    "    \"\"\"\n",
    "    k = 3\n",
    "    # R-restoration and target calculation\n",
    "    p_x11s = []\n",
    "\n",
    "    # only select the positive p(C)\n",
    "    p_C = np.sum(p_WXC, axis=(0,1))\n",
    "    c_id = np.arange(len(p_C))[p_C > 0]\n",
    "    p_WXC = p_WXC[:,:,c_id]\n",
    "    p_C = np.sum(p_WXC, axis=(0,1))\n",
    "\n",
    "    # In general, we will grid search\n",
    "    # p_w0_r0Cs = {}\n",
    "    # for c in range(len(p_C)):\n",
    "    #     p_w0_r0Cs[c] = np.linspace(analytic_lbC[c], analytic_ubC[c], k)\n",
    "    # p_w0_r0Cs = product(*list(p_w0_r0Cs.values()))\n",
    "\n",
    "    # But there are too many points, so pick a few\n",
    "    p_w0_r0Cs = [analytic_lbC]\n",
    "    for i in range(10**6):\n",
    "        coeff = np.random.rand(len(p_C))\n",
    "        p_w0_r0Cs.append(analytic_lbC + coeff * (analytic_ubC - analytic_lbC))\n",
    "    p_w0_r0Cs.append(analytic_ubC)\n",
    "\n",
    "    for p_w0_r0C in p_w0_r0Cs:\n",
    "        p_RXC = np.zeros_like(p_WXC)\n",
    "        for c in range(len(p_C)):\n",
    "            # calc p(WXc) for each c\n",
    "            p_w0_r0 = p_w0_r0C[c]\n",
    "            p_w0_r1 = p_w0_r1C[c]\n",
    "            p_W_R = np.asarray([\n",
    "                [p_w0_r0, p_w0_r1],\n",
    "                [1-p_w0_r0, 1-p_w0_r1],\n",
    "            ])\n",
    "            # Kuroki-Pearl matrix inversion equation\n",
    "            inv = np.asarray([\n",
    "                [1-p_w0_r1, -p_w0_r1],\n",
    "                [p_w0_r0-1, p_w0_r0],\n",
    "            ]) / (p_w0_r0 - p_w0_r1)\n",
    "            p_RXC[:,:,c] = inv @ p_WXC[:,:,c]\n",
    "        # ZAR: p(x(1)=1) = \\sum_c p(x=1 | r=1, c) p(c)\n",
    "        p_RC = np.sum(p_RXC, axis=1)\n",
    "        p_RC = fix_div_by_zero(p_RC)\n",
    "        p_X_RC = np.einsum('rxc,rc->xrc', p_RXC, 1/p_RC)\n",
    "        p_C = np.sum(p_RXC, axis=(0, 1))\n",
    "        p_x11 = p_X_RC[1,1,:] @ p_C\n",
    "        p_x11s.append(p_x11)\n",
    "\n",
    "    # dummy_xs = np.linspace(np.min(analytic_lbC), np.max(analytic_ubC), len(p_x11s))\n",
    "    dummy_xs = np.arange(len(p_w0_r0Cs))\n",
    "    return p_x11s, dummy_xs"
   ]
  },
  {
   "cell_type": "markdown",
   "id": "ee561d29-d721-4e88-9d08-11f2c0253b02",
   "metadata": {},
   "source": [
    "### Comparison: ZI MAR without C -> W"
   ]
  },
  {
   "cell_type": "markdown",
   "id": "56d19672-dcef-4501-8be7-c5f85a332987",
   "metadata": {},
   "source": [
    "We fit p(WXC) using ZI MAR EM, where $W$ is either 'EPIC' or 'composite'. We then perform sensitivity analysis using these fitted p(WXC).\n",
    "Finally we plot no_missing_clabsi_rate (or observed rate) vs estimated CLABSI rate using the newly found compatible p(W|R)s."
   ]
  },
  {
   "cell_type": "code",
   "execution_count": 13,
   "id": "d405aa03-b433-4304-a473-9dd527b81bc3",
   "metadata": {},
   "outputs": [
    {
     "name": "stdout",
     "output_type": "stream",
     "text": [
      "p(w0|r1) is identfied = 0.5654110828320615.\n",
      "Bounds: 0.8868560495333836 < p(w0|r0) < 1.\n"
     ]
    }
   ],
   "source": [
    "W = \"EPIC\"\n",
    "output_name = f\"202406271433-{W.lower()}\"\n",
    "df = pd.read_csv(f\"p_wxc-{output_name}.csv\")\n",
    "p_WXC_em_e = deepcopy(df[\"em_zar\"])\n",
    "\n",
    "p_WXC = p_WXC_em_e.to_numpy().reshape(2,2,-1)\n",
    "\n",
    "p_w0_r1_em_e, p_w0_r0s_em_e, analytic_lb_em_e, analytic_ub_em_e = get_bounds(p_WXC)\n",
    "p_x11s_em_e, _ = calc_rate(p_WXC, p_w0_r1_em_e, p_w0_r0s_em_e, C_vals)"
   ]
  },
  {
   "cell_type": "code",
   "execution_count": 14,
   "id": "fceec19f-228b-43a5-92cf-b8a3532ae997",
   "metadata": {},
   "outputs": [
    {
     "name": "stdout",
     "output_type": "stream",
     "text": [
      "p(w0|r1) is identfied = 0.7911985890422139.\n",
      "Bounds: 0 < p(w0|r0) < 0.7030937424928835.\n"
     ]
    }
   ],
   "source": [
    "W = \"CRISP\"\n",
    "output_name = f\"202406271433-{W.lower()}\"\n",
    "df = pd.read_csv(f\"p_wxc-{output_name}.csv\")\n",
    "p_WXC_em_c = deepcopy(df[\"em_zar\"])\n",
    "\n",
    "p_WXC = p_WXC_em_c.to_numpy().reshape(2,2,-1)\n",
    "p_w0_r1_em_c, p_w0_r0s_em_c, analytic_lb_em_c, analytic_ub_em_c = get_bounds(p_WXC)\n",
    "p_x11s_em_c, _ = calc_rate(p_WXC, p_w0_r1_em_c, p_w0_r0s_em_c, C_vals)"
   ]
  },
  {
   "cell_type": "code",
   "execution_count": 15,
   "id": "b8ab4ce0-a28d-4f19-bb6e-ee45bcd9b6aa",
   "metadata": {},
   "outputs": [
    {
     "name": "stdout",
     "output_type": "stream",
     "text": [
      "p(w0|r1) is identfied = 0.5641192254981711.\n",
      "Bounds: 0.9043335753502513 < p(w0|r0) < 1.\n"
     ]
    }
   ],
   "source": [
    "W = \"EPIC_or_CRISP\"\n",
    "output_name = f\"202406271433-{W.lower()}\"\n",
    "df = pd.read_csv(f\"p_wxc-{output_name}.csv\")\n",
    "p_WXC_em_mix = deepcopy(df[\"em_zar\"])\n",
    "\n",
    "p_WXC = p_WXC_em_mix.to_numpy().reshape(2,2,-1)\n",
    "p_w0_r1_em_mix, p_w0_r0s_em_mix, analytic_lb_em_mix, analytic_ub_em_mix = get_bounds(p_WXC)\n",
    "p_x11s_em_mix, _ = calc_rate(p_WXC, p_w0_r1_em_mix, p_w0_r0s_em_mix, C_vals)"
   ]
  },
  {
   "cell_type": "code",
   "execution_count": 25,
   "id": "7793e095-a4da-44fc-b6ae-9907b3474c89",
   "metadata": {},
   "outputs": [
    {
     "data": {
      "image/png": "[encoded data removed]",
      "text/plain": [
       "<Figure size 800x500 with 1 Axes>"
      ]
     },
     "metadata": {},
     "output_type": "display_data"
    }
   ],
   "source": [
    "# plot sensitivity-analysis curve\n",
    "\n",
    "output_name = f\"202406271433-crisp\"\n",
    "\n",
    "plt.figure(figsize=(8,5))\n",
    "\n",
    "plt.plot(p_w0_r0s_em_c, p_x11s_em_c, \"*\", c='#FE6100', lw=1, ms=8, label=\"CRISP\")\n",
    "all_p_w0_r0s = p_w0_r0s_em_c\n",
    "observed_rate = np.sum(p_WXC_emp.to_numpy().reshape(2,2,-1), axis=(0,2))[1]\n",
    "plt.plot([np.min(all_p_w0_r0s), np.max(all_p_w0_r0s)], np.ones(2)*observed_rate, \"-\", c=\"#FFB000\", lw=3, label=f\"observed rate: {observed_rate*100:.2f}%\")\n",
    "\n",
    "plt.rcParams.update({'font.size': 16})\n",
    "\n",
    "plt.xlabel(\"Pr( not having data access | ZI-case ), $p(W=0|R=0)$\", fontsize=16) #, fontweight='bold')\n",
    "plt.ylabel(\"CLABSI rate\", fontsize=16)\n",
    "plt.legend(loc=\"upper right\", fontsize=16)\n",
    "plt.suptitle(\"CLABSI rate, ZI adjusted\", fontsize=20)\n",
    "plt.title(\"Exp: 202406271433 | Data: clean_202406121003_PatientData\", fontsize=10)\n",
    "plt.savefig(f'{output_name}.jpeg')"
   ]
  },
  {
   "cell_type": "code",
   "execution_count": 17,
   "id": "364f9d29-45a2-45a9-8d59-7271a279979f",
   "metadata": {},
   "outputs": [
    {
     "data": {
      "image/png": "[encoded data removed]",
      "text/plain": [
       "<Figure size 800x500 with 1 Axes>"
      ]
     },
     "metadata": {},
     "output_type": "display_data"
    }
   ],
   "source": [
    "# plot sensitivity-analysis curve\n",
    "\n",
    "output_name = f\"202406271433-epic_vs_eoc\"\n",
    "\n",
    "plt.figure(figsize=(8,5))\n",
    "\n",
    "plt.plot(p_w0_r0s_em_e, p_x11s_em_e, \"*\", c='#FE6100', lw=1, ms=8, label=\"EPIC\")            # EHRS is EPIC, for blind submission version\n",
    "plt.plot(p_w0_r0s_em_mix, p_x11s_em_mix, \"^\", c='#785EF0', lw=1, ms=8, label=\"EPIC or CRISP\") # HIE is CRIPS, for blind submission version\n",
    "all_p_w0_r0s = p_w0_r0s_em_e\n",
    "observed_rate = np.sum(p_WXC_emp.to_numpy().reshape(2,2,-1), axis=(0,2))[1]\n",
    "plt.plot([np.min(all_p_w0_r0s), np.max(all_p_w0_r0s)], np.ones(2)*observed_rate, \"-\", c=\"#FFB000\", lw=3, label=f\"observed rate: {observed_rate*100:.2f}%\")\n",
    "\n",
    "plt.rcParams.update({'font.size': 16})\n",
    "\n",
    "plt.xlabel(\"$p(W=0|R=0)$\", fontsize=16)\n",
    "\n",
    "# plt.xlabel(\"Pr( not having data access | ZI-case ), $p(W=0|R=0)$\", fontsize=16) #, fontweight='bold')\n",
    "plt.ylabel(\"CLABSI rate\", fontsize=16)\n",
    "plt.legend(loc=\"upper right\", fontsize=16)\n",
    "# plt.suptitle(\"CLABSI rate, ZI adjusted\", fontsize=20)\n",
    "# plt.title(\"Exp: 202406271433 | Data: clean_202406121003_PatientData\", fontsize=10)\n",
    "# plt.savefig(f'{output_name}.jpeg')\n",
    "plt.savefig('UAI_clabsi_202406271433.jpeg')"
   ]
  },
  {
   "cell_type": "markdown",
   "id": "f83a11b4-e9f3-4ff4-bd08-bb5df5e4d0f4",
   "metadata": {},
   "source": [
    "### Comparison: ZI MAR with C -> W"
   ]
  },
  {
   "cell_type": "code",
   "execution_count": 17,
   "id": "6338dc0b-29e1-47ff-a246-882231effa20",
   "metadata": {},
   "outputs": [],
   "source": [
    "W = \"EPIC\"\n",
    "output_name = f\"202406271433-{W.lower()}\"\n",
    "df = pd.read_csv(f\"p_wxc-CtoW-{output_name}.csv\")\n",
    "p_WXC_em_e = deepcopy(df[\"em_zar\"])\n",
    "\n",
    "p_WXC = p_WXC_em_e.to_numpy().reshape(2,2,-1)"
   ]
  },
  {
   "cell_type": "markdown",
   "id": "26f76b41-836c-4ebb-8f04-6c120f6dae29",
   "metadata": {},
   "source": [
    "In the functions `get_bounds_2` and `calc_rate_2`, we calc bounds and rate for only C values in the support of $p(C)$.\n",
    "For the other $c$ not in the support, we have $p(W=0,X,c) = p(W=1,X,c) = 0$, and by convention we let $p(W=0 \\mid X,c) = 0$, and zero-inflation doesn't occur (see theorem). For those $c$, $p(R=1,X,c) = p(X,c) = 0$, and they do not contribute to the rate."
   ]
  },
  {
   "cell_type": "code",
   "execution_count": 52,
   "id": "25c46b9a-918d-4d66-9600-6bfec05a7b6a",
   "metadata": {},
   "outputs": [
    {
     "name": "stdout",
     "output_type": "stream",
     "text": [
      "p(w0|r1) is identfied = 0.5707480208206736.\n",
      "Bounds: 0.7432780975724472 < p(w0|r0) < 1.\n",
      "p(w0|r1) is identfied = 0.3792901740593016.\n",
      "Bounds: 0.8932537707015958 < p(w0|r0) < 1.\n",
      "p(w0|r1) is identfied = 0.6822881361537629.\n",
      "Bounds: 0.9216601475636907 < p(w0|r0) < 1.\n",
      "p(w0|r1) is identfied = 0.48323924688794295.\n",
      "Bounds: 0.5883634824544904 < p(w0|r0) < 1.\n",
      "p(w0|r1) is identfied = 0.7731866996604647.\n",
      "Bounds: 0 < p(w0|r0) < 0.7287008541873615.\n",
      "p(w0|r1) is identfied = 0.883393383971868.\n",
      "Bounds: 0 < p(w0|r0) < 0.543521945050434.\n",
      "p(w0|r1) is identfied = 0.5054048152691807.\n",
      "Bounds: 0.9764946168146661 < p(w0|r0) < 1.\n",
      "p(w0|r1) is identfied = 0.8823719563316398.\n",
      "Bounds: 0.9855965714212392 < p(w0|r0) < 1.\n",
      "p(w0|r1) is identfied = 0.6721221298185511.\n",
      "Bounds: 0.9766582127934926 < p(w0|r0) < 1.\n",
      "p(w0|r1) is identfied = 0.030002097246916486.\n",
      "Bounds: 0.49998130981970984 < p(w0|r0) < 1.\n",
      "p(w0|r1) is identfied = 0.9766645832906984.\n",
      "Bounds: 0 < p(w0|r0) < 0.500063819425955.\n",
      "p(w0|r1) is identfied = 0.42342360205524865.\n",
      "Bounds: 0.48415280909449776 < p(w0|r0) < 1.\n",
      "p(w0|r1) is identfied = 0.8246151664048585.\n",
      "Bounds: 0 < p(w0|r0) < 0.7024006386016957.\n",
      "p(w0|r1) is identfied = 0.5000000000004988.\n",
      "Bounds: 0.5764621267821562 < p(w0|r0) < 1.\n",
      "p(w0|r1) is identfied = 0.6252228163537538.\n",
      "Bounds: 0 < p(w0|r0) < 0.5001114115564416.\n",
      "p(w0|r1) is identfied = 0.5835258092730773.\n",
      "Bounds: 0.59616021096338 < p(w0|r0) < 1.\n",
      "p(w0|r1) is identfied = 0.009875914446039354.\n",
      "Bounds: 0.3545756258065323 < p(w0|r0) < 1.\n",
      "p(w0|r1) is identfied = 0.49575991531473595.\n",
      "Bounds: 0 < p(w0|r0) < 0.04558409384878531.\n",
      "p(w0|r1) is identfied = 0.5048418352032189.\n",
      "Bounds: 0.9708717003719892 < p(w0|r0) < 1.\n",
      "p(w0|r1) is identfied = 0.739958675130866.\n",
      "Bounds: 0.9855670538199631 < p(w0|r0) < 1.\n",
      "p(w0|r1) is identfied = 0.6771374293741144.\n",
      "Bounds: 0.9850370063769357 < p(w0|r0) < 1.\n",
      "p(w0|r1) is identfied = 0.010087526879335606.\n",
      "Bounds: 0.035217204287211624 < p(w0|r0) < 1.\n",
      "p(w0|r1) is identfied = 0.009916761279954767.\n",
      "Bounds: 0.257982912054212 < p(w0|r0) < 1.\n",
      "p(w0|r1) is identfied = 0.3286261761755207.\n",
      "Bounds: 0 < p(w0|r0) < 0.03490908048648689.\n",
      "narrowest bound = (0.9855965714212392, 1.0), at c = 34\n",
      "widest bound = (0.035217204287211624, 1.0), at c = 193\n"
     ]
    }
   ],
   "source": [
    "p_w0_r1_em_e, analytic_lb_em_e, analytic_ub_em_e = get_bounds_2(p_WXC, C_vals)"
   ]
  },
  {
   "cell_type": "code",
   "execution_count": 54,
   "id": "750018c4-9c47-4cc1-b067-365092ec9663",
   "metadata": {},
   "outputs": [
    {
     "name": "stdout",
     "output_type": "stream",
     "text": [
      "Adjusted CLABSI rate: min = 0.7723412953411278, max = 0.930411234154292\n"
     ]
    }
   ],
   "source": [
    "p_x11s_em_e, _ = calc_rate_2(p_WXC, p_w0_r1_em_e, analytic_lb_em_e, analytic_ub_em_e, C_vals)\n",
    "print(f\"Adjusted CLABSI rate: min = {np.min(p_x11s_em_e)}, max = {np.max(p_x11s_em_e)}\")"
   ]
  },
  {
   "cell_type": "code",
   "execution_count": 48,
   "id": "56573af9-902e-4bf9-993f-8cb939fe909d",
   "metadata": {},
   "outputs": [
    {
     "data": {
      "text/plain": [
       "array(['OPAT', 'PICC'], dtype='<U12')"
      ]
     },
     "execution_count": 48,
     "metadata": {},
     "output_type": "execute_result"
    }
   ],
   "source": [
    "# Covariates of narrowest bounds\n",
    "np.asarray(C)[np.asarray(C_vals[34]) == 1]"
   ]
  },
  {
   "cell_type": "code",
   "execution_count": 49,
   "id": "3569482f-9cd3-4985-8940-f22f6c931bdf",
   "metadata": {},
   "outputs": [
    {
     "data": {
      "text/plain": [
       "array(['Peds', 'Chemotherapy', 'TunneledCVC'], dtype='<U12')"
      ]
     },
     "execution_count": 49,
     "metadata": {},
     "output_type": "execute_result"
    }
   ],
   "source": [
    "# Covariates of widest bounds\n",
    "np.asarray(C)[np.asarray(C_vals[193]) == 1]"
   ]
  }
 ],
 "metadata": {
  "kernelspec": {
   "display_name": "Python 3 (ipykernel)",
   "language": "python",
   "name": "python3"
  },
  "language_info": {
   "codemirror_mode": {
    "name": "ipython",
    "version": 3
   },
   "file_extension": ".py",
   "mimetype": "text/x-python",
   "name": "python",
   "nbconvert_exporter": "python",
   "pygments_lexer": "ipython3",
   "version": "3.11.5"
  }
 },
 "nbformat": 4,
 "nbformat_minor": 5
}
